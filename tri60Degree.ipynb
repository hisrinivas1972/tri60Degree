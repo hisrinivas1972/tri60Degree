{
 "cells": [
  {
   "cell_type": "code",
   "execution_count": 1,
   "id": "00c3ef3c",
   "metadata": {},
   "outputs": [
    {
     "name": "stdout",
     "output_type": "stream",
     "text": [
      "0.8660254037844386\n",
      "1.1547005383792517\n",
      "1.7320508075688772\n",
      "0.5773502691896258\n",
      "0.5\n",
      "2.0\n"
     ]
    }
   ],
   "source": [
    "#Sin= opposite side/ hypotenuse*\n",
    "#Cosec= hypotenuse/ opposite side\n",
    "#tan= opposite side/ adjacent side*\n",
    "#cot= adjacent side/opposite side\n",
    "#Cos= adjacent side/ hypotenuse*\n",
    "#sec= hypotenuse/ adjacent side\n",
    "# 60 Degrees\n",
    "import math\n",
    "o = math.sqrt(3)\n",
    "a = 1\n",
    "h = 2\n",
    "sin = (o / h)\n",
    "print(sin)\n",
    "cosec = (h / o)\n",
    "print(cosec)\n",
    "tan = (o / a)\n",
    "print(tan)\n",
    "cot = (a / o)\n",
    "print(cot)\n",
    "cos = (a / h)\n",
    "print(cos)\n",
    "sec = (h / a)\n",
    "print(sec)"
   ]
  },
  {
   "cell_type": "code",
   "execution_count": null,
   "id": "83c5b858",
   "metadata": {},
   "outputs": [],
   "source": []
  }
 ],
 "metadata": {
  "kernelspec": {
   "display_name": "Python 3 (ipykernel)",
   "language": "python",
   "name": "python3"
  },
  "language_info": {
   "codemirror_mode": {
    "name": "ipython",
    "version": 3
   },
   "file_extension": ".py",
   "mimetype": "text/x-python",
   "name": "python",
   "nbconvert_exporter": "python",
   "pygments_lexer": "ipython3",
   "version": "3.9.7"
  }
 },
 "nbformat": 4,
 "nbformat_minor": 5
}
